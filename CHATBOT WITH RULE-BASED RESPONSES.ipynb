{
 "cells": [
  {
   "cell_type": "code",
   "execution_count": 1,
   "id": "e1f788e3",
   "metadata": {},
   "outputs": [
    {
     "name": "stdout",
     "output_type": "stream",
     "text": [
      "🤖 Chatbot: Hello! I am a simple chatbot. Type 'exit' to end the conversation.\n",
      "You: hi\n",
      "🤖 Chatbot: Hello there! How can I help you?\n",
      "You: how are you\n",
      "🤖 Chatbot: I'm just a program, but I'm doing fine. Thanks for asking!\n",
      "You: your name\n",
      "🤖 Chatbot: I’m a rule-based chatbot created to chat with you!\n",
      "You: help\n",
      "🤖 Chatbot: Sure! You can ask me about the weather, time, or just say hi!\n",
      "You: time\n",
      "🤖 Chatbot: The current time is 18:47:37\n",
      "You: weather\n",
      "🤖 Chatbot: I'm not connected to real-time weather services, but it's always sunny in the code world! ☀️\n",
      "You: exit\n",
      "🤖 Chatbot: Goodbye! Have a great day!\n"
     ]
    }
   ],
   "source": [
    "def chatbot():\n",
    "    print(\"🤖 Chatbot: Hello! I am a simple chatbot. Type 'exit' to end the conversation.\")\n",
    "    \n",
    "    while True:\n",
    "        user_input = input(\"You: \").lower()\n",
    "\n",
    "        if user_input in ['hi', 'hello', 'hey']:\n",
    "            print(\"🤖 Chatbot: Hello there! How can I help you?\")\n",
    "        \n",
    "        elif \"how are you\" in user_input:\n",
    "            print(\"🤖 Chatbot: I'm just a program, but I'm doing fine. Thanks for asking!\")\n",
    "        \n",
    "        elif \"your name\" in user_input:\n",
    "            print(\"🤖 Chatbot: I’m a rule-based chatbot created to chat with you!\")\n",
    "\n",
    "        elif \"help\" in user_input:\n",
    "            print(\"🤖 Chatbot: Sure! You can ask me about the weather, time, or just say hi!\")\n",
    "\n",
    "        elif \"time\" in user_input:\n",
    "            from datetime import datetime\n",
    "            now = datetime.now().strftime(\"%H:%M:%S\")\n",
    "            print(f\"🤖 Chatbot: The current time is {now}\")\n",
    "\n",
    "        elif \"weather\" in user_input:\n",
    "            print(\"🤖 Chatbot: I'm not connected to real-time weather services, but it's always sunny in the code world! ☀️\")\n",
    "\n",
    "        elif user_input in ['bye', 'exit', 'quit']:\n",
    "            print(\"🤖 Chatbot: Goodbye! Have a great day!\")\n",
    "            break\n",
    "\n",
    "        else:\n",
    "            print(\"🤖 Chatbot: I’m sorry, I didn’t understand that. Can you rephrase?\")\n",
    "\n",
    "# Run the chatbot\n",
    "chatbot()\n"
   ]
  },
  {
   "cell_type": "code",
   "execution_count": null,
   "id": "2d67ae3c",
   "metadata": {},
   "outputs": [],
   "source": []
  }
 ],
 "metadata": {
  "kernelspec": {
   "display_name": "Python 3 (ipykernel)",
   "language": "python",
   "name": "python3"
  },
  "language_info": {
   "codemirror_mode": {
    "name": "ipython",
    "version": 3
   },
   "file_extension": ".py",
   "mimetype": "text/x-python",
   "name": "python",
   "nbconvert_exporter": "python",
   "pygments_lexer": "ipython3",
   "version": "3.10.9"
  }
 },
 "nbformat": 4,
 "nbformat_minor": 5
}
