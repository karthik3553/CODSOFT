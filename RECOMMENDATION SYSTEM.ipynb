{
 "cells": [
  {
   "cell_type": "code",
   "execution_count": 1,
   "id": "251094f2",
   "metadata": {},
   "outputs": [
    {
     "name": "stdout",
     "output_type": "stream",
     "text": [
      "Enter a movie title: The Matrix\n",
      "\n",
      "🎬 Recommended Movies:\n",
      "✅ John Wick\n",
      "✅ The Dark Knight\n",
      "✅ Toy Story\n",
      "✅ The Godfather\n",
      "✅ Finding Nemo\n"
     ]
    }
   ],
   "source": [
    "import pandas as pd\n",
    "from sklearn.feature_extraction.text import TfidfVectorizer\n",
    "from sklearn.metrics.pairwise import cosine_similarity\n",
    "\n",
    "# Load the movie dataset\n",
    "df = pd.read_csv(\"movies.csv\")\n",
    "\n",
    "# Fill missing genres\n",
    "df['genres'] = df['genres'].fillna('')\n",
    "\n",
    "# TF-IDF Vectorization on genres\n",
    "vectorizer = TfidfVectorizer()\n",
    "tfidf_matrix = vectorizer.fit_transform(df['genres'])\n",
    "\n",
    "# Compute cosine similarity\n",
    "similarity = cosine_similarity(tfidf_matrix)\n",
    "\n",
    "# Recommendation function\n",
    "def recommend(movie_title):\n",
    "    if movie_title not in df['title'].values:\n",
    "        return \"❌ Movie not found in the database.\"\n",
    "\n",
    "    idx = df[df['title'] == movie_title].index[0]\n",
    "    sim_scores = list(enumerate(similarity[idx]))\n",
    "    sim_scores = sorted(sim_scores, key=lambda x: x[1], reverse=True)[1:6]  # Top 5 excluding the movie itself\n",
    "    \n",
    "    recommended_titles = [df.iloc[i[0]]['title'] for i in sim_scores]\n",
    "    return recommended_titles\n",
    "\n",
    "# Example usage\n",
    "movie_name = input(\"Enter a movie title: \")\n",
    "recommendations = recommend(movie_name)\n",
    "\n",
    "print(\"\\n🎬 Recommended Movies:\")\n",
    "if isinstance(recommendations, list):\n",
    "    for rec in recommendations:\n",
    "        print(\"✅\", rec)\n",
    "else:\n",
    "    print(recommendations)\n"
   ]
  }
 ],
 "metadata": {
  "kernelspec": {
   "display_name": "Python 3 (ipykernel)",
   "language": "python",
   "name": "python3"
  },
  "language_info": {
   "codemirror_mode": {
    "name": "ipython",
    "version": 3
   },
   "file_extension": ".py",
   "mimetype": "text/x-python",
   "name": "python",
   "nbconvert_exporter": "python",
   "pygments_lexer": "ipython3",
   "version": "3.10.9"
  }
 },
 "nbformat": 4,
 "nbformat_minor": 5
}
